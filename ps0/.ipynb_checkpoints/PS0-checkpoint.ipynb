{
 "cells": [
  {
   "cell_type": "markdown",
   "metadata": {},
   "source": [
    "## <center>Empirical IO I: Problem Set 0</center>\n",
    "### <center>Yinan Wang</center>\n",
    "#### <center>Sept 18, 2020</center>"
   ]
  },
  {
   "cell_type": "markdown",
   "metadata": {},
   "source": [
    "## Part 0: Logit Inclusive Value\n",
    "1.If $x_{0} = 0$ , $$IV =\\log \\sum_{i=0}^N \\exp[x_i] = \\log (1 + \\sum_{i=1}^N \\exp[x_i]).$$\n",
    "Let $f(x) = \\log (1 + \\sum_{i=1}^N \\exp[x_i]),$ \n",
    "$$f(tx+(1-t)y) = \\log (1 + \\sum_{i=1}^N \\exp[tx_i+(1-t)y_i]).$$\n",
    "From Hölder's inequality:\n",
    "$$\\sum_{i=1}^N |x_k y_k| \\leq (\\sum_{i=1}^N |x_k|^p)^\\frac{1}{p} (\\sum_{i=1}^N |y_k|^q)^\\frac{1}{q}$$\n",
    "with $$\\frac{1}{p} + \\frac{1}{q} = 1 $$\n",
    "Therefore,\n",
    "$$\\sum_{i=1}^N \\exp[x_i]^t \\exp[y_i]^{1-t} \\leq (\\sum_{i=1}^N \\exp[x_i]^{t{\\frac{1}{t}}})^{t} (\\sum_{i=1}^N \\exp[y_i]^{(1-t){\\frac{1}{1-t}}})^{1-t}$$\n",
    "Thus,\n",
    "$$\\log (\\sum_{i=1}^N \\exp[x_i]^t \\exp[y_i]^{1-t}) \\leq t \\log (\\sum_{i=1}^N \\exp[x_i]) +(1-t) \\log(\\sum_{i=1}^N \\exp[y_i])$$\n",
    "This will also be the case when $x_0 = 0.$"
   ]
  },
  {
   "cell_type": "markdown",
   "metadata": {},
   "source": [
    "2.Let $m=\\max_{i} {x_i},$ then $$IV =\\log \\sum_{i=0}^N \\exp[x_i]=\\log \\sum_{i=0}^N \\exp[x_i-m+m] = \\log (\\exp[m] \\sum_{i=0}^N\\exp[x_i-m]) = \\log \\exp[m] +\\log \\sum_{i=0}^N\\exp[x_i-m] = m+\\log \\sum_{i=0}^N\\exp[x_i-m]$$\n",
    "Let $IV_m = \\log \\sum_{i=0}^N\\exp[x_i-m]$ be the value after we implementing the trick. Then $IV = IV_m +m$\n",
    "And implement function as follows:\n"
   ]
  },
  {
   "cell_type": "code",
   "execution_count": 1,
   "metadata": {},
   "outputs": [],
   "source": [
    "import numpy as np\n",
    "def log_sum_exp_trick(a):\n",
    "    m = max(a)\n",
    "    a1 = np.subtract(a, m)\n",
    "    IVm = np.log(np.sum(np.exp(a1)))\n",
    "    IV = IVm+m\n",
    "    return IV"
   ]
  },
  {
   "cell_type": "markdown",
   "metadata": {},
   "source": [
    "3.compare to scipy.misc.logsumexp.Those two results are same. It does not suffer from underflow/overflow errors. "
   ]
  },
  {
   "cell_type": "code",
   "execution_count": 2,
   "metadata": {},
   "outputs": [
    {
     "name": "stdout",
     "output_type": "stream",
     "text": [
      "===The result from scipy.misc.logsumexp is: 980.0000000020611 ===\n",
      "===The result from my own function is: 980.0000000020611 ===\n"
     ]
    }
   ],
   "source": [
    "from scipy.special import logsumexp\n",
    "a = [900, 930, 960, 980]\n",
    "IV1 = logsumexp(a)\n",
    "print('===The result from scipy.misc.logsumexp is: '+str(IV1)+' ===')\n",
    "IV2 = log_sum_exp_trick(a)\n",
    "print('===The result from my own function is: '+str(IV2)+' ===')"
   ]
  },
  {
   "cell_type": "markdown",
   "metadata": {},
   "source": [
    "## Part 1: Markov Chains"
   ]
  },
  {
   "cell_type": "code",
   "execution_count": 3,
   "metadata": {},
   "outputs": [
    {
     "name": "stdout",
     "output_type": "stream",
     "text": [
      "===The result from getErgodic is: [0.31034483 0.24137931 0.44827586] ===\n",
      "===The result from matrix_power(P, 100) is: [0.31034483 0.24137931 0.44827586] ===\n"
     ]
    }
   ],
   "source": [
    "def getErgodic(P):\n",
    "    #The ergodic distribution of P will be an eigenvector of P associated with eigenvalue lamda = 1\n",
    "    #transpose P so that Markov transitions correspond to right multiplying by a column vector.np.linalg.eig finds right eigenvectors.\n",
    "    evals, evecs = np.linalg.eig(P.T)\n",
    "    #find the eigenvector that corresponds to lamda = 1\n",
    "    evec1 = evecs[:,np.isclose(evals, 1)].real\n",
    "    #rescale so they sum up to 1\n",
    "    stationary = evec1 / evec1.sum()\n",
    "    return stationary[:,0]\n",
    "\n",
    "P = np.array([[0.2, 0.4, 0.4], [0.1, 0.3, 0.6], [0.5, 0.1, 0.4]])\n",
    "pi1 = getErgodic(P)\n",
    "print('===The result from getErgodic is: '+str(pi1)+' ===')\n",
    "P_100 = np.linalg.matrix_power(P,100)[0]\n",
    "print('===The result from matrix_power(P, 100) is: '+str(P_100)+' ===')"
   ]
  },
  {
   "cell_type": "markdown",
   "metadata": {},
   "source": [
    "## Part 2: Numerical Integration\n",
    "1.Create binomiallogit"
   ]
  },
  {
   "cell_type": "code",
   "execution_count": 4,
   "metadata": {},
   "outputs": [],
   "source": [
    "from scipy.stats import norm\n",
    "from scipy.stats import multivariate_normal\n",
    "from scipy import integrate\n",
    "\n",
    "def f(beta,X=0.5):\n",
    "    return np.exp(np.dot(beta,X)) / (1+np.exp(np.dot(beta,X)))\n",
    "\n",
    "def binomiallogit(beta, X=0.5, pdf = norm.pdf):\n",
    "    return f(beta,X)*pdf(beta)"
   ]
  },
  {
   "cell_type": "markdown",
   "metadata": {},
   "source": [
    "2.Integrate the function using scipy.integrate.quadand set the tolerance to 1e-14"
   ]
  },
  {
   "cell_type": "code",
   "execution_count": 5,
   "metadata": {},
   "outputs": [
    {
     "data": {
      "text/plain": [
       "(0.5514932726366428, 1.8493264018876166e-09)"
      ]
     },
     "execution_count": 5,
     "metadata": {},
     "output_type": "execute_result"
    }
   ],
   "source": [
    "pdf=norm(0.5, 2).pdf\n",
    "X = 0.5\n",
    "integrate.quad(binomiallogit, -300, 300,epsabs=1e-14,args = (X,pdf))"
   ]
  },
  {
   "cell_type": "markdown",
   "metadata": {},
   "source": [
    "3.Integrate the function using Monte Carlo draws of 20 and 400"
   ]
  },
  {
   "cell_type": "code",
   "execution_count": 6,
   "metadata": {},
   "outputs": [
    {
     "data": {
      "text/plain": [
       "0.5517567303024488"
      ]
     },
     "execution_count": 6,
     "metadata": {},
     "output_type": "execute_result"
    }
   ],
   "source": [
    "def montecarlo(n):\n",
    "    v = np.random.normal(0.5, 2, n)\n",
    "    fv = np.apply_along_axis(f, 0, v)\n",
    "    return np.mean(fv)\n",
    "#20 monte carlo draws\n",
    "montecarlo(20) #0.5366168183039505\n",
    "#400 monte carlo draws\n",
    "montecarlo(400) #0.5418102101803519"
   ]
  },
  {
   "cell_type": "markdown",
   "metadata": {},
   "source": [
    "4.Integrate the function using Gauss-Hermite quadrature for k = 4,9,12"
   ]
  },
  {
   "cell_type": "code",
   "execution_count": 7,
   "metadata": {},
   "outputs": [
    {
     "data": {
      "text/plain": [
       "0.5513138767711852"
      ]
     },
     "execution_count": 7,
     "metadata": {},
     "output_type": "execute_result"
    }
   ],
   "source": [
    "def cal(x,w,mu,sigma,X):\n",
    "    y = np.sqrt(2)*sigma*x+mu\n",
    "    fy = np.apply_along_axis(lambda x:f(x,X=X), 0, y)\n",
    "    tot = sum(w*fy)\n",
    "    return (1/np.sqrt(np.pi))*tot\n",
    "\n",
    "\n",
    "\n",
    "def gaussHermite(k,mu=0.5,sigma=2,X=0.5):\n",
    "    if k == 4:\n",
    "        x = np.array([-1.650680123885784555883,\n",
    "            -0.5246476232752903178841,\n",
    "            0.5246476232752903178841,\n",
    "            1.650680123885784555883])\n",
    "        w = np.array([0.081312835447245177143,\n",
    "            0.8049140900055128365061,\n",
    "            0.8049140900055128365061,\n",
    "            0.08131283544724517714303])\n",
    "    elif k ==9:\n",
    "        x = np.array([-3.19099320178152760723,\n",
    "            -2.266580584531843111802,\n",
    "            -1.468553289216667931667,\n",
    "            -0.7235510187528375733226,\n",
    "            0,\n",
    "            0.7235510187528375733226,\n",
    "            1.468553289216667931667,\n",
    "            2.266580584531843111802,\n",
    "            3.19099320178152760723])\n",
    "        w = np.array([3.960697726326438190459e-5,\n",
    "            0.00494362427553694721722,\n",
    "            0.088474527394376573288,\n",
    "            0.4326515590025557501998,\n",
    "            0.7202352156060509571243,\n",
    "            0.4326515590025557502,\n",
    "            0.088474527394376573288,\n",
    "            0.004943624275536947217225,\n",
    "            3.96069772632643819046e-5])\n",
    "    elif k ==12:\n",
    "        x = np.array([-3.889724897869781919272,\n",
    "            -3.020637025120889771711,\n",
    "            -2.279507080501059900188,\n",
    "            -1.59768263515260479671,\n",
    "            -0.9477883912401637437046,\n",
    "            -0.314240376254359111277,\n",
    "            0.3142403762543591112766,\n",
    "            0.947788391240163743705,\n",
    "            1.59768263515260479671,\n",
    "            2.279507080501059900188,\n",
    "            3.020637025120889771711,\n",
    "            3.889724897869781919272])\n",
    "        w = np.array([2.65855168435630160602e-7,\n",
    "            8.5736870435878586546e-5,\n",
    "            0.00390539058462906185999,\n",
    "            0.05160798561588392999187,\n",
    "            0.2604923102641611292334,\n",
    "            0.5701352362624795783471,\n",
    "            0.5701352362624795783471,\n",
    "            0.2604923102641611292334,\n",
    "            0.05160798561588392999187,\n",
    "            0.00390539058462906185999,\n",
    "            8.57368704358785865457e-5,\n",
    "            2.65855168435630160602e-7])\n",
    "        \n",
    "    else:\n",
    "        print('===Not valid option k===')\n",
    "        return\n",
    "    return cal(x,w,mu,sigma,X)\n",
    "\n",
    "gaussHermite(4,mu=0.5,sigma=2,X=0.5) #0.5513138767711852    \n",
    "# gaussHermite(9,mu=0.5,sigma=2,X=0.5) #0.551494224290647\n",
    "# gaussHermite(12,mu=0.5,sigma=2,X=0.5) #0.5514932040654398"
   ]
  },
  {
   "cell_type": "markdown",
   "metadata": {},
   "source": [
    "5.Gauss-Hermite quadrature gives us more accurate result than Monte Carlo does. "
   ]
  },
  {
   "cell_type": "markdown",
   "metadata": {},
   "source": [
    "6.Repeat the exercise in two dimensions\n",
    "$$p(X,\\theta) =\\int_{-\\infty}^{\\infty} \\int_{-\\infty}^{\\infty} \\frac{\\exp(\\beta_1*X_1+\\beta_2*X_2)}{1+ \\exp(\\beta_1*X_1+\\beta_2*X_2)} f(\\boldsymbol{\\beta} | \\theta) \\partial \\beta_1  \\partial \\beta_2$$"
   ]
  },
  {
   "cell_type": "code",
   "execution_count": 8,
   "metadata": {},
   "outputs": [
    {
     "data": {
      "text/plain": [
       "(0.7144838053940904, 8.344965756194558e-10)"
      ]
     },
     "execution_count": 8,
     "metadata": {},
     "output_type": "execute_result"
    }
   ],
   "source": [
    "def binomiallogit(beta1,beta2, X=[0.5,1], pdf1 = norm.pdf, pdf2=norm.pdf):\n",
    "    beta = np.array([beta1,beta2])\n",
    "    return f(beta,X)*pdf1(beta1)*pdf2(beta2)\n",
    "\n",
    "pdf1 = norm(0.5,2).pdf\n",
    "pdf2 = norm(1,1).pdf\n",
    "X=[0.5,1]\n",
    "integrate.nquad(binomiallogit, [[-100,100], [-100,100]],args = (X,pdf1,pdf2),opts = {'epsabs':1e-14})"
   ]
  },
  {
   "cell_type": "markdown",
   "metadata": {},
   "source": [
    "7.Put everything in two tables."
   ]
  },
  {
   "cell_type": "code",
   "execution_count": 9,
   "metadata": {},
   "outputs": [
    {
     "data": {
      "text/html": [
       "<div>\n",
       "<style scoped>\n",
       "    .dataframe tbody tr th:only-of-type {\n",
       "        vertical-align: middle;\n",
       "    }\n",
       "\n",
       "    .dataframe tbody tr th {\n",
       "        vertical-align: top;\n",
       "    }\n",
       "\n",
       "    .dataframe thead th {\n",
       "        text-align: right;\n",
       "    }\n",
       "</style>\n",
       "<table border=\"1\" class=\"dataframe\">\n",
       "  <thead>\n",
       "    <tr style=\"text-align: right;\">\n",
       "      <th></th>\n",
       "      <th>Method</th>\n",
       "      <th>Points</th>\n",
       "      <th>Error</th>\n",
       "    </tr>\n",
       "  </thead>\n",
       "  <tbody>\n",
       "    <tr>\n",
       "      <th>0</th>\n",
       "      <td>True Value</td>\n",
       "      <td>N/A</td>\n",
       "      <td>1.000000e-14</td>\n",
       "    </tr>\n",
       "    <tr>\n",
       "      <th>1</th>\n",
       "      <td>Monte Carlo</td>\n",
       "      <td>20</td>\n",
       "      <td>1.487645e-02</td>\n",
       "    </tr>\n",
       "    <tr>\n",
       "      <th>2</th>\n",
       "      <td>Monte Carlo</td>\n",
       "      <td>400</td>\n",
       "      <td>9.683062e-03</td>\n",
       "    </tr>\n",
       "    <tr>\n",
       "      <th>3</th>\n",
       "      <td>Gauss-Hermite</td>\n",
       "      <td>4</td>\n",
       "      <td>1.793959e-04</td>\n",
       "    </tr>\n",
       "    <tr>\n",
       "      <th>4</th>\n",
       "      <td>Gauss-Hermite</td>\n",
       "      <td>9</td>\n",
       "      <td>9.516540e-07</td>\n",
       "    </tr>\n",
       "    <tr>\n",
       "      <th>5</th>\n",
       "      <td>Gauss-Hermite</td>\n",
       "      <td>12</td>\n",
       "      <td>6.857120e-08</td>\n",
       "    </tr>\n",
       "  </tbody>\n",
       "</table>\n",
       "</div>"
      ],
      "text/plain": [
       "          Method Points         Error\n",
       "0     True Value    N/A  1.000000e-14\n",
       "1    Monte Carlo     20  1.487645e-02\n",
       "2    Monte Carlo    400  9.683062e-03\n",
       "3  Gauss-Hermite      4  1.793959e-04\n",
       "4  Gauss-Hermite      9  9.516540e-07\n",
       "5  Gauss-Hermite     12  6.857120e-08"
      ]
     },
     "execution_count": 9,
     "metadata": {},
     "output_type": "execute_result"
    }
   ],
   "source": [
    "import pandas as pd\n",
    "table_1D = pd.DataFrame(columns=['Method','Points','Error'])\n",
    "new_row = {'Method':'True Value', 'Points':'N/A', 'Error':1e-14}\n",
    "table_1D = table_1D.append(new_row,ignore_index=True)\n",
    "new_row = {'Method':'Monte Carlo', 'Points':20, 'Error':1.4876454332692357e-2}\n",
    "table_1D = table_1D.append(new_row,ignore_index=True)\n",
    "new_row = {'Method':'Monte Carlo', 'Points':400, 'Error':9.683062456290914e-3}\n",
    "table_1D = table_1D.append(new_row,ignore_index=True)\n",
    "new_row = {'Method':'Gauss-Hermite', 'Points':4, 'Error':1.793958654576766e-4}\n",
    "table_1D = table_1D.append(new_row,ignore_index=True)\n",
    "new_row = {'Method':'Gauss-Hermite', 'Points':9, 'Error':9.516540041554222e-07}\n",
    "table_1D = table_1D.append(new_row,ignore_index=True)\n",
    "new_row = {'Method':'Gauss-Hermite', 'Points':12, 'Error':6.85712030490393e-08}\n",
    "table_1D = table_1D.append(new_row,ignore_index=True)\n",
    "table_1D"
   ]
  },
  {
   "cell_type": "code",
   "execution_count": 10,
   "metadata": {},
   "outputs": [
    {
     "data": {
      "text/plain": [
       "0.7083932800177054"
      ]
     },
     "execution_count": 10,
     "metadata": {},
     "output_type": "execute_result"
    }
   ],
   "source": [
    "def f2(b1,b2,X=[0.5,1]):\n",
    "    return np.exp(b1*X[0]+b2*X[1]) / (1+np.exp(b1*X[0]+b2*X[1]))\n",
    "def montecarlo(n):\n",
    "    v1 = np.random.normal(0.5, 2, n)\n",
    "    v2 = np.random.normal(1, 1, n)\n",
    "    beta = np.array([v1,v2])\n",
    "\n",
    "    fv = np.apply_along_axis(f2, 0, v1,v2)\n",
    "    return np.mean(fv)\n",
    "#20 monte carlo draws\n",
    "montecarlo(20) #0.7380346232831527\n",
    "#400 monte carlo draws\n",
    "montecarlo(400) #0.7143884320073794"
   ]
  },
  {
   "cell_type": "code",
   "execution_count": 11,
   "metadata": {},
   "outputs": [
    {
     "data": {
      "text/plain": [
       "0.7144838098576911"
      ]
     },
     "execution_count": 11,
     "metadata": {},
     "output_type": "execute_result"
    }
   ],
   "source": [
    "# def cal_2D(x,w,k,mu1=0.5,mu2=1,sigma1=2,sigma2=1):\n",
    "#     to_sum = np.zeros([k,k])\n",
    "#     for i in range(k):\n",
    "#         for j in range(k):\n",
    "#             x1 = np.sqrt(2)*sigma1*x[i]+mu1\n",
    "#             x2 = np.sqrt(2)*sigma2*x[j]+mu2\n",
    "#             to_sum[i,j] = w[i]*w[j]*f2(x1, x2)\n",
    "#     tot = to_sum.sum()\n",
    "#     return (1/np.pi)*tot\n",
    "\n",
    "def cal_2D(x,w,k,mu1=0.5,mu2=1,sigma1=2,sigma2=1,X=[0.5,1]):\n",
    "    # change of variable\n",
    "    x1 = np.vectorize(lambda x: np.sqrt(2)*sigma1*x+mu1)(x)\n",
    "    x2 = np.vectorize(lambda x: np.sqrt(2)*sigma2*x+mu2)(x)\n",
    "    # replicate x1 and x2 to enumertate all pairs\n",
    "    x1 = np.tile(x1, k).reshape(1,k*k)\n",
    "    x2 = np.repeat(x2,k).reshape(1,k*k)\n",
    "    all_pairs = np.concatenate((x1.T, x2.T), axis=1)\n",
    "    \n",
    "    # calculate all Vij\n",
    "    rep_U = all_pairs.dot(np.reshape(X,(2,1))).reshape(k,k)\n",
    "    fx = np.vectorize(lambda x:np.exp(x) / (1+np.exp(x)))(rep_U)\n",
    "    # enumertate all pairs of w\n",
    "    w_all = np.reshape(w,(k,1)).dot(w.reshape(1,k))\n",
    "    # element-wise mutiplication\n",
    "    tot = np.multiply(w_all, fx).sum()\n",
    "    return (1/np.pi)*tot\n",
    "\n",
    "def gaussHermite_2D(k,mu1=0.5,mu2=1,sigma1=2,sigma2=1,X=0.5):\n",
    "    if k == 4:\n",
    "        x = np.array([-1.650680123885784555883,\n",
    "            -0.5246476232752903178841,\n",
    "            0.5246476232752903178841,\n",
    "            1.650680123885784555883])\n",
    "        w = np.array([0.081312835447245177143,\n",
    "            0.8049140900055128365061,\n",
    "            0.8049140900055128365061,\n",
    "            0.08131283544724517714303])\n",
    "    elif k ==9:\n",
    "        x = np.array([-3.19099320178152760723,\n",
    "            -2.266580584531843111802,\n",
    "            -1.468553289216667931667,\n",
    "            -0.7235510187528375733226,\n",
    "            0,\n",
    "            0.7235510187528375733226,\n",
    "            1.468553289216667931667,\n",
    "            2.266580584531843111802,\n",
    "            3.19099320178152760723])\n",
    "        w = np.array([3.960697726326438190459e-5,\n",
    "            0.00494362427553694721722,\n",
    "            0.088474527394376573288,\n",
    "            0.4326515590025557501998,\n",
    "            0.7202352156060509571243,\n",
    "            0.4326515590025557502,\n",
    "            0.088474527394376573288,\n",
    "            0.004943624275536947217225,\n",
    "            3.96069772632643819046e-5])\n",
    "    elif k ==12:\n",
    "        x = np.array([-3.889724897869781919272,\n",
    "            -3.020637025120889771711,\n",
    "            -2.279507080501059900188,\n",
    "            -1.59768263515260479671,\n",
    "            -0.9477883912401637437046,\n",
    "            -0.314240376254359111277,\n",
    "            0.3142403762543591112766,\n",
    "            0.947788391240163743705,\n",
    "            1.59768263515260479671,\n",
    "            2.279507080501059900188,\n",
    "            3.020637025120889771711,\n",
    "            3.889724897869781919272])\n",
    "        w = np.array([2.65855168435630160602e-7,\n",
    "            8.5736870435878586546e-5,\n",
    "            0.00390539058462906185999,\n",
    "            0.05160798561588392999187,\n",
    "            0.2604923102641611292334,\n",
    "            0.5701352362624795783471,\n",
    "            0.5701352362624795783471,\n",
    "            0.2604923102641611292334,\n",
    "            0.05160798561588392999187,\n",
    "            0.00390539058462906185999,\n",
    "            8.57368704358785865457e-5,\n",
    "            2.65855168435630160602e-7])\n",
    "        \n",
    "    else:\n",
    "        print('===Not valid option k===')\n",
    "        return\n",
    "    return cal_2D(x,w,k,mu1,mu2,sigma1,sigma2)\n",
    "\n",
    "# gaussHermite_2D(4) #0.7143713789717683    \n",
    "# gaussHermite_2D(9) #0.7144837634601805\n",
    "gaussHermite_2D(12) #0.714483809857691"
   ]
  },
  {
   "cell_type": "code",
   "execution_count": 12,
   "metadata": {},
   "outputs": [
    {
     "data": {
      "text/html": [
       "<div>\n",
       "<style scoped>\n",
       "    .dataframe tbody tr th:only-of-type {\n",
       "        vertical-align: middle;\n",
       "    }\n",
       "\n",
       "    .dataframe tbody tr th {\n",
       "        vertical-align: top;\n",
       "    }\n",
       "\n",
       "    .dataframe thead th {\n",
       "        text-align: right;\n",
       "    }\n",
       "</style>\n",
       "<table border=\"1\" class=\"dataframe\">\n",
       "  <thead>\n",
       "    <tr style=\"text-align: right;\">\n",
       "      <th></th>\n",
       "      <th>Method</th>\n",
       "      <th>Points</th>\n",
       "      <th>Error</th>\n",
       "    </tr>\n",
       "  </thead>\n",
       "  <tbody>\n",
       "    <tr>\n",
       "      <th>0</th>\n",
       "      <td>True Value</td>\n",
       "      <td>N/A</td>\n",
       "      <td>1.000000e-14</td>\n",
       "    </tr>\n",
       "    <tr>\n",
       "      <th>1</th>\n",
       "      <td>Monte Carlo</td>\n",
       "      <td>20</td>\n",
       "      <td>2.355082e-02</td>\n",
       "    </tr>\n",
       "    <tr>\n",
       "      <th>2</th>\n",
       "      <td>Monte Carlo</td>\n",
       "      <td>400</td>\n",
       "      <td>9.537339e-05</td>\n",
       "    </tr>\n",
       "    <tr>\n",
       "      <th>3</th>\n",
       "      <td>Gauss-Hermite</td>\n",
       "      <td>4</td>\n",
       "      <td>1.124264e-04</td>\n",
       "    </tr>\n",
       "    <tr>\n",
       "      <th>4</th>\n",
       "      <td>Gauss-Hermite</td>\n",
       "      <td>9</td>\n",
       "      <td>4.193391e-08</td>\n",
       "    </tr>\n",
       "    <tr>\n",
       "      <th>5</th>\n",
       "      <td>Gauss-Hermite</td>\n",
       "      <td>12</td>\n",
       "      <td>4.463601e-09</td>\n",
       "    </tr>\n",
       "  </tbody>\n",
       "</table>\n",
       "</div>"
      ],
      "text/plain": [
       "          Method Points         Error\n",
       "0     True Value    N/A  1.000000e-14\n",
       "1    Monte Carlo     20  2.355082e-02\n",
       "2    Monte Carlo    400  9.537339e-05\n",
       "3  Gauss-Hermite      4  1.124264e-04\n",
       "4  Gauss-Hermite      9  4.193391e-08\n",
       "5  Gauss-Hermite     12  4.463601e-09"
      ]
     },
     "execution_count": 12,
     "metadata": {},
     "output_type": "execute_result"
    }
   ],
   "source": [
    "table_2D = pd.DataFrame(columns=['Method','Points','Error'])\n",
    "new_row = {'Method':'True Value', 'Points':'N/A', 'Error':1e-14}\n",
    "table_2D = table_2D.append(new_row,ignore_index=True)\n",
    "new_row = {'Method':'Monte Carlo', 'Points':20, 'Error':0.023550817889062325}\n",
    "table_2D = table_2D.append(new_row,ignore_index=True)\n",
    "new_row = {'Method':'Monte Carlo', 'Points':400, 'Error':9.537338671095075e-05}\n",
    "table_2D = table_2D.append(new_row,ignore_index=True)\n",
    "new_row = {'Method':'Gauss-Hermite', 'Points':4, 'Error':0.00011242642232212052}\n",
    "table_2D = table_2D.append(new_row,ignore_index=True)\n",
    "new_row = {'Method':'Gauss-Hermite', 'Points':9, 'Error':4.19339099000382e-08}\n",
    "table_2D = table_2D.append(new_row,ignore_index=True)\n",
    "new_row = {'Method':'Gauss-Hermite', 'Points':12, 'Error':4.463600600246309e-09}\n",
    "table_2D = table_2D.append(new_row,ignore_index=True)\n",
    "table_2D"
   ]
  },
  {
   "cell_type": "markdown",
   "metadata": {},
   "source": [
    "8.Construct binomiallogitmixture that takes a vector of X and returns a vector of binomial probabilities"
   ]
  },
  {
   "cell_type": "code",
   "execution_count": 13,
   "metadata": {},
   "outputs": [
    {
     "data": {
      "text/plain": [
       "array([0.55805121, 0.5514932 ])"
      ]
     },
     "execution_count": 13,
     "metadata": {},
     "output_type": "execute_result"
    }
   ],
   "source": [
    "def binomiallogitmixture(X,mu=0.5,sigma=2,k=12):\n",
    "    fv = np.vectorize(lambda x:gaussHermite(k,mu,sigma,X=x))(X)\n",
    "    return fv\n",
    "\n",
    "binomiallogitmixture([0.6,0.5])"
   ]
  },
  {
   "cell_type": "code",
   "execution_count": null,
   "metadata": {},
   "outputs": [],
   "source": []
  }
 ],
 "metadata": {
  "kernelspec": {
   "display_name": "Python 3",
   "language": "python",
   "name": "python3"
  },
  "language_info": {
   "codemirror_mode": {
    "name": "ipython",
    "version": 3
   },
   "file_extension": ".py",
   "mimetype": "text/x-python",
   "name": "python",
   "nbconvert_exporter": "python",
   "pygments_lexer": "ipython3",
   "version": "3.7.6"
  }
 },
 "nbformat": 4,
 "nbformat_minor": 4
}
